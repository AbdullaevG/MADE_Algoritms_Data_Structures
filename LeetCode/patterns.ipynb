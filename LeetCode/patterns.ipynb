{
 "cells": [
  {
   "cell_type": "code",
   "execution_count": 2,
   "id": "d39c9652",
   "metadata": {},
   "outputs": [
    {
     "data": {
      "text/plain": [
       "True"
      ]
     },
     "execution_count": 2,
     "metadata": {},
     "output_type": "execute_result"
    }
   ],
   "source": [
    "from typing import List\n",
    "class Solution:\n",
    "    \"\"\"\n",
    "    Given an integer array nums, return true if any value appears at least \n",
    "    twice in the array, and return false if every element is distinct.\n",
    "    \"\"\"\n",
    "    def containsDuplicate(self, nums: List[int]) -> bool:\n",
    "        items = {}\n",
    "        for i in range(len(nums)):\n",
    "            if nums[i] in items:\n",
    "                return True\n",
    "            else:\n",
    "                items[nums[i]] = nums[i]\n",
    "        return False\n",
    "Solution().containsDuplicate([0, 1, 2, 3, 0])"
   ]
  },
  {
   "cell_type": "code",
   "execution_count": 25,
   "id": "e9cd58be",
   "metadata": {},
   "outputs": [],
   "source": [
    "from typing import List\n",
    "class Solution:\n",
    "    \"\"\"\n",
    "    Given an array nums of n integers where nums[i] is in the range [1, n],\n",
    "    return an array of all the integers in the range [1, n] that do not appear in nums.\n",
    "    \n",
    "    Input: nums = [4,3,2,7,8,2,3,1]\n",
    "    Output: [5,6]\n",
    "    \n",
    "    Input: nums = [1,1]\n",
    "    Output: [2]\n",
    "    \"\"\"\n",
    "    def findDisappearedNumbers(self, nums: List[int]) -> List[int]:\n",
    "        real = set(nums)\n",
    "        result = []\n",
    "        for i in range(1, len(nums)+1):\n",
    "            if i not in real:\n",
    "                result.append(i)\n",
    "        return result\n",
    "        "
   ]
  },
  {
   "cell_type": "code",
   "execution_count": 41,
   "id": "86aa0a59",
   "metadata": {},
   "outputs": [],
   "source": [
    "from typing import List\n",
    "class Solution:\n",
    "    \"\"\"\n",
    "    Given a non-empty array of integers nums, every element appears twice except for one.\n",
    "    Find that single one.\n",
    "    You must implement a solution with a linear runtime complexity and use only constant extra space.\n",
    "    \n",
    "    Input: nums = [2,2,1]\n",
    "    Output: 1\n",
    "    \n",
    "    Input: nums = [4,1,2,1,2]\n",
    "    Output: 4\n",
    "    \"\"\"\n",
    "    def singleNumber(self, nums: List[int]) -> int:\n",
    "        result = item[0]\n",
    "        for item in nums[1:]:\n",
    "            result ^= item\n",
    "        return item\n",
    "        \n",
    "        "
   ]
  },
  {
   "cell_type": "code",
   "execution_count": 43,
   "id": "e03a9581",
   "metadata": {},
   "outputs": [],
   "source": [
    "class Solution:\n",
    "    \"\"\"\n",
    "    You are climbing a staircase. It takes n steps to reach the top.\n",
    "    Each time you can either climb 1 or 2 steps. In how many distinct ways can you climb to the top?\n",
    "\n",
    "    Input: n = 2\n",
    "    Output: 2\n",
    "    \"\"\"\n",
    "    def climbStairs(self, n: int) -> int:\n",
    "        a, b = 0, 1\n",
    "        for i in range(n+1):\n",
    "            a += b\n",
    "            b = a-b\n",
    "\n",
    "        return a"
   ]
  },
  {
   "cell_type": "code",
   "execution_count": 56,
   "id": "60f2e558",
   "metadata": {},
   "outputs": [
    {
     "data": {
      "text/plain": [
       "5"
      ]
     },
     "execution_count": 56,
     "metadata": {},
     "output_type": "execute_result"
    }
   ],
   "source": [
    "class Solution:\n",
    "    \"\"\"\n",
    "    You are given an array prices where prices[i] is the price of a given stock on the ith day.\n",
    "    You want to maximize your profit by choosing a single day to buy one stock and choosing a different day in the       future to sell that stock.\n",
    "\n",
    "    Return the maximum profit you can achieve from this transaction. If you cannot achieve any profit, return 0.\n",
    "    \"\"\"\n",
    "    def maxProfit(self, prices: List[int]) -> int:\n",
    "        min_el = 10**4 + 1\n",
    "        profit = -1\n",
    "        for i in range(len(prices)):\n",
    "            if prices[i] < min_el:\n",
    "                min_el = prices[i]\n",
    "                \n",
    "            if prices[i] - min_el > profit:\n",
    "                profit = prices[i] - min_el\n",
    "                \n",
    "        return profit\n",
    "    \n",
    "Solution().maxProfit([7,1,5,3,6,4])   "
   ]
  },
  {
   "cell_type": "code",
   "execution_count": 77,
   "id": "3238ba57",
   "metadata": {},
   "outputs": [],
   "source": [
    "from typing import List\n",
    "class Solution:\n",
    "    \"\"\"\n",
    "    Given an array of integers nums which is sorted in ascending order, and an integer target,\n",
    "    write a function to search target in nums. If target exists, then return its index. \n",
    "    Otherwise, return -1.\n",
    "    You must write an algorithm with O(log n) runtime complexity.\n",
    "    \"\"\"\n",
    "    def search(self, nums: List[int], target: int) -> int:\n",
    "        left, right = 0, len(nums)\n",
    "        while right > left:\n",
    "            middle = (left+right)//2\n",
    "            if nums[middle] == target:\n",
    "                return middle\n",
    "            elif nums[middle] > target:\n",
    "                right = middle\n",
    "            else:\n",
    "                left = middle + 1\n",
    "                \n",
    "        return -1"
   ]
  },
  {
   "cell_type": "code",
   "execution_count": null,
   "id": "0d4ed002",
   "metadata": {},
   "outputs": [],
   "source": []
  }
 ],
 "metadata": {
  "kernelspec": {
   "display_name": "Python 3",
   "language": "python",
   "name": "python3"
  },
  "language_info": {
   "codemirror_mode": {
    "name": "ipython",
    "version": 3
   },
   "file_extension": ".py",
   "mimetype": "text/x-python",
   "name": "python",
   "nbconvert_exporter": "python",
   "pygments_lexer": "ipython3",
   "version": "3.8.5"
  }
 },
 "nbformat": 4,
 "nbformat_minor": 5
}
