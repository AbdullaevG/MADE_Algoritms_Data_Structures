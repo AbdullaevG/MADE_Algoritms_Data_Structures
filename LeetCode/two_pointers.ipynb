{
 "cells": [
  {
   "cell_type": "code",
   "execution_count": 1,
   "id": "fe22b33d",
   "metadata": {},
   "outputs": [],
   "source": [
    "from typing import List"
   ]
  },
  {
   "cell_type": "code",
   "execution_count": 2,
   "id": "f2a2c2c5",
   "metadata": {},
   "outputs": [
    {
     "data": {
      "text/plain": [
       "([0, 1, 2, 3, 4, 2, 2, 3, 3, 4], 5)"
      ]
     },
     "execution_count": 2,
     "metadata": {},
     "output_type": "execute_result"
    }
   ],
   "source": [
    "class Solution:\n",
    "    \"\"\"\n",
    "    Given an integer array nums sorted in non-decreasing order, \n",
    "    remove the duplicates in-place such that each unique element appears only once. \n",
    "    The relative order of the elements should be kept the same. Then return the number\n",
    "    of unique elements in nums.\n",
    "    \n",
    "    Input: nums = [1,1,2]\n",
    "    Output: 2, nums = [1,2,_]\n",
    "    \n",
    "    Input: nums = [0,0,1,1,1,2,2,3,3,4]\n",
    "    Output: 5, nums = [0,1,2,3,4,_,_,_,_,_]\n",
    "    \"\"\"\n",
    "    def removeDuplicates(self, nums: List[int]) -> int:\n",
    "        i, j = 0, 0\n",
    "        for j in range(len(nums)):\n",
    "            if nums[j] != nums[i]:\n",
    "                nums[i+1] = nums[j]\n",
    "                i += 1\n",
    "                \n",
    "        return nums, i+1\n",
    "Solution().removeDuplicates(nums = [0,0,1,1,1,2,2,3,3,4])"
   ]
  },
  {
   "cell_type": "code",
   "execution_count": 5,
   "id": "53d1766c",
   "metadata": {},
   "outputs": [
    {
     "data": {
      "text/plain": [
       "([2, 2, '_', 3], 2)"
      ]
     },
     "execution_count": 5,
     "metadata": {},
     "output_type": "execute_result"
    }
   ],
   "source": [
    "class Solution:\n",
    "    \"\"\"\n",
    "    Given an integer array nums and an integer val, remove all occurrences of val in nums in-place.\n",
    "    The order of the elements may be changed. Then return the number of elements in nums which are\n",
    "    not equal to val.\n",
    "\n",
    "    Consider the number of elements in nums which are not equal to val be k, to get accepted, you\n",
    "    need to do the following things:\n",
    "        Change the array nums such that the first k elements of nums contain the elements which are \n",
    "        not equal to val. The remaining elements of nums are not important as well as the size of nums.\n",
    "    Return k.\n",
    "    \n",
    "    Input: nums = [3,2,2,3], val = 3\n",
    "    Output: 2, nums = [2,2,_,_]\n",
    "    \n",
    "    Input: nums = [0,1,2,2,3,0,4,2], val = 2\n",
    "    Output: 5, nums = [0,1,4,0,3,_,_,_]\n",
    "    \"\"\"\n",
    "    def removeElement(self, nums: List[int], val: int) -> int:\n",
    "        j = 0\n",
    "        for i in range(len(nums)):\n",
    "            if nums[i] != val:\n",
    "                if i != j:\n",
    "                    nums[j], nums[i] = nums[i], \"_\"\n",
    "                j += 1\n",
    "                \n",
    "        return nums, j\n",
    "    \n",
    "Solution().removeElement(nums = [3,2,2,3], val = 3)                "
   ]
  },
  {
   "cell_type": "code",
   "execution_count": 12,
   "id": "7d3ead27",
   "metadata": {},
   "outputs": [
    {
     "data": {
      "text/plain": [
       "0"
      ]
     },
     "execution_count": 12,
     "metadata": {},
     "output_type": "execute_result"
    }
   ],
   "source": [
    "# 28. Find the Index of the First Occurrence in a String\n",
    "class Solution:\n",
    "    \"\"\"\n",
    "    Given two strings needle and haystack, return the index of \n",
    "    the first occurrence of needle in haystack, or -1 if needle is not part of haystack.\n",
    "    \n",
    "    Input: haystack = \"sadbutsad\", needle = \"sad\"\n",
    "    Output: 0\n",
    "    \n",
    "    Input: haystack = \"leetcode\", needle = \"leeto\"\n",
    "    Output: -1\n",
    "    \"\"\"\n",
    "    def strStr(self, haystack: str, needle: str) -> int:\n",
    "        output = -1\n",
    "        N1, N2 = len(haystack), len(needle)\n",
    "        \n",
    "        if N1 < N2 :\n",
    "            return output\n",
    "        \n",
    "        for i in range(0, N1-N2+1):\n",
    "            if haystack[i:i+N2] == needle:\n",
    "                return i\n",
    "        return output\n",
    "    \n",
    "Solution().strStr(haystack = \"sadbutsad\", needle = \"sad\")"
   ]
  },
  {
   "cell_type": "code",
   "execution_count": 35,
   "id": "b698324d",
   "metadata": {},
   "outputs": [],
   "source": [
    "# 125. Valid Palindrome\n",
    "class Solution:\n",
    "    \"\"\"\n",
    "    A phrase is a palindrome if, after converting all uppercase letters into \n",
    "    lowercase letters and removing all non-alphanumeric characters, it reads \n",
    "    the same forward and backward. Alphanumeric characters include letters and numbers.\n",
    "\n",
    "    Given a string s, return true if it is a palindrome, or false otherwise.\n",
    "    \n",
    "    Input: s = \"A man, a plan, a canal: Panama\"\n",
    "    Output: true\n",
    "    Explanation: \"amanaplanacanalpanama\" is a palindrome.\n",
    "    \"\"\"\n",
    "    def isPalindrome(self, s: str) -> bool:\n",
    "        i, j = 0, len(s)-1\n",
    "        while i<j:\n",
    "            if not s[i].isalnum():\n",
    "                i += 1\n",
    "            elif not s[j].isalnum():\n",
    "                j -= 1\n",
    "            elif s[i].lower() != s[j].lower():\n",
    "                return False\n",
    "            else:\n",
    "                i += 1\n",
    "                j -= 1\n",
    "        return True  "
   ]
  },
  {
   "cell_type": "code",
   "execution_count": 36,
   "id": "afa3bd31",
   "metadata": {},
   "outputs": [],
   "source": [
    "# 141. Linked List Cycle\n",
    "class ListNode:\n",
    "    def __init__(self, x):\n",
    "        self.val = x\n",
    "        self.next = None\n",
    "\n",
    "class Solution:\n",
    "    \"\"\"\n",
    "    Given head, the head of a linked list, determine if the linked list has a cycle in it.\n",
    "    There is a cycle in a linked list if there is some node in the list that can be reached\n",
    "    again by continuously following the next pointer. Internally, pos is used to denote the index \n",
    "    of the node that tail's next pointer is connected to. Note that pos is not passed as a parameter.\n",
    "    \n",
    "    Return true if there is a cycle in the linked list. Otherwise, return false.\n",
    "    \"\"\"\n",
    "    def hasCycle(self, head: ListNode) -> bool:\n",
    "        slow = head\n",
    "        fast = head\n",
    "        \n",
    "        while fast and fast.next:\n",
    "            slow = slow.next\n",
    "            fast = fast.next.next\n",
    "            \n",
    "            if fast == slow:\n",
    "                return True\n",
    "            \n",
    "        return False"
   ]
  },
  {
   "cell_type": "code",
   "execution_count": null,
   "id": "370e6f0a",
   "metadata": {},
   "outputs": [],
   "source": [
    "# Definition for singly-linked list.\n",
    "class ListNode:\n",
    "    def __init__(self, x):\n",
    "        self.val = x\n",
    "        self.next = None\n",
    "\n",
    "class Solution:\n",
    "    \"\"\"\n",
    "    Given the heads of two singly linked-lists headA and headB, \n",
    "    return the node at which the two lists intersect. If the two \n",
    "    linked lists have no intersection at all, return null.\n",
    "    \n",
    "    \"\"\"\n",
    "    def getIntersectionNode(self, headA: ListNode, headB: ListNode) -> ListNode:\n",
    "        one = headA\n",
    "        two = headB\n",
    "\n",
    "        while one != two:\n",
    "            one = headB if one is None else one.next\n",
    "            two = headA if two is None else two.next\n",
    "        return one"
   ]
  }
 ],
 "metadata": {
  "kernelspec": {
   "display_name": "Python 3",
   "language": "python",
   "name": "python3"
  },
  "language_info": {
   "codemirror_mode": {
    "name": "ipython",
    "version": 3
   },
   "file_extension": ".py",
   "mimetype": "text/x-python",
   "name": "python",
   "nbconvert_exporter": "python",
   "pygments_lexer": "ipython3",
   "version": "3.8.5"
  }
 },
 "nbformat": 4,
 "nbformat_minor": 5
}
