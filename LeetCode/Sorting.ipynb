{
 "cells": [
  {
   "cell_type": "code",
   "execution_count": 1,
   "id": "3ccfe9e2",
   "metadata": {},
   "outputs": [],
   "source": [
    "from typing import List\n",
    "import numpy as np"
   ]
  },
  {
   "cell_type": "code",
   "execution_count": 2,
   "id": "939a6cf5",
   "metadata": {},
   "outputs": [],
   "source": [
    "def test_func(sort_method, num_test = 10):\n",
    "    for _ in range(num_test):\n",
    "        size = np.random.randint(0, 100)\n",
    "        arr = np.random.randint(-100, 100, size=size).tolist()\n",
    "        assert sorted(arr) == sort_method(arr)\n",
    "    print(\"All seems ok!!!\")"
   ]
  },
  {
   "cell_type": "code",
   "execution_count": 3,
   "id": "f9e5309a",
   "metadata": {},
   "outputs": [
    {
     "name": "stdout",
     "output_type": "stream",
     "text": [
      "All seems ok!!!\n"
     ]
    }
   ],
   "source": [
    "### сортировка выбором\n",
    "def selection_sort(arr: list) -> list:\n",
    "    for i in range(len(arr)):\n",
    "        for j in range(i, len(arr)):\n",
    "            if arr[i] > arr[j]:\n",
    "                arr[i], arr[j] = arr[j], arr[i]\n",
    "    return arr\n",
    "\n",
    "test_func(selection_sort)"
   ]
  },
  {
   "cell_type": "code",
   "execution_count": 4,
   "id": "3d3f0d35",
   "metadata": {},
   "outputs": [],
   "source": [
    "### Сортировка вставками\n",
    "\n",
    "def insert_sort(arr):\n",
    "    for i in range(1, len(arr)):\n",
    "        j = i-1\n",
    "        while arr[i] < arr[j] and j >= 0:\n",
    "            arr[i], arr[j] = arr[j], arr[i]\n",
    "            i = j\n",
    "            j -= 1\n",
    "    return arr"
   ]
  },
  {
   "cell_type": "code",
   "execution_count": 5,
   "id": "e10f334a",
   "metadata": {},
   "outputs": [
    {
     "name": "stdout",
     "output_type": "stream",
     "text": [
      "All seems ok!!!\n"
     ]
    }
   ],
   "source": [
    "### Пузырковая сортировка\n",
    "\n",
    "def bubble_sort(arr: list) -> list:\n",
    "    last = len(arr)\n",
    "    for _ in range(len(arr)):\n",
    "        for j in range(last-1):\n",
    "            if arr[j] > arr[j+1]:\n",
    "                arr[j], arr[j+1] = arr[j+1], arr[j]\n",
    "    return arr\n",
    "\n",
    "test_func(bubble_sort)"
   ]
  },
  {
   "cell_type": "code",
   "execution_count": 6,
   "id": "da84731c",
   "metadata": {},
   "outputs": [
    {
     "name": "stdout",
     "output_type": "stream",
     "text": [
      "All seems ok!!!\n"
     ]
    }
   ],
   "source": [
    "# Сортировка перемешиванием, или Шейкерная сортировка, или двунаправленная\n",
    "\n",
    "def cocktailShaker_sort(arr: list) -> list:\n",
    "    left, right = 0, len(arr)-1\n",
    "    while left < right:\n",
    "        for i in range(left, right, 1):\n",
    "            if arr[i] > arr[i+1]:\n",
    "                arr[i], arr[i+1] = arr[i+1], arr[i]\n",
    "        right -= 1\n",
    "        for j in range(right, left, -1):\n",
    "            if arr[j] < arr[j-1]:\n",
    "                arr[j], arr[j-1] = arr[j-1], arr[j]\n",
    "        left += 1        \n",
    "    return arr\n",
    "\n",
    "test_func(cocktailShaker_sort)"
   ]
  },
  {
   "cell_type": "code",
   "execution_count": 7,
   "id": "360e5895",
   "metadata": {},
   "outputs": [
    {
     "name": "stdout",
     "output_type": "stream",
     "text": [
      "All seems ok!!!\n"
     ]
    }
   ],
   "source": [
    "# сортировка слиянием\n",
    "\n",
    "def merge_arrs(arr_1: list, arr_2: list) -> list:\n",
    "    i, j, k = 0, 0, 0\n",
    "    N1, N2 = len(arr_1), len(arr_2)\n",
    "    result = [None for _ in range(N1+N2)]\n",
    "    while i < len(arr_1) and j < len(arr_2):\n",
    "        if arr_1[i] < arr_2[j]:\n",
    "            result[k] = arr_1[i]\n",
    "            i += 1\n",
    "        else:\n",
    "            result[k] = arr_2[j]\n",
    "            j += 1\n",
    "        k += 1\n",
    "    \n",
    "    while i < len(arr_1):\n",
    "        result[k] = arr_1[i]\n",
    "        i += 1\n",
    "        k += 1\n",
    "        \n",
    "    while j < len(arr_2):\n",
    "        result[k] = arr_2[j]\n",
    "        j += 1\n",
    "        k += 1\n",
    "    return result\n",
    "\n",
    "\n",
    "def merge_sort(arr: list) -> list:\n",
    "    if len(arr) <= 1:\n",
    "        return arr\n",
    "    middle = len(arr) // 2\n",
    "    left = arr[:middle]\n",
    "    right = arr[middle:]\n",
    "    \n",
    "    left = merge_sort(left)\n",
    "    right = merge_sort(right)\n",
    "    \n",
    "    result = merge_arrs(left, right)\n",
    "    \n",
    "    return result\n",
    "\n",
    "test_func(merge_sort)"
   ]
  },
  {
   "cell_type": "code",
   "execution_count": 8,
   "id": "46690dff",
   "metadata": {},
   "outputs": [
    {
     "name": "stdout",
     "output_type": "stream",
     "text": [
      "All seems ok!!!\n"
     ]
    }
   ],
   "source": [
    "# Быстрая сортировка\n",
    "\n",
    "def quick_sort(arr: list) -> list:\n",
    "    if len(arr) <= 1:\n",
    "        return arr\n",
    "    \n",
    "    middle_item = arr[len(arr) // 2]\n",
    "    left = [item for item in arr if item < middle_item]\n",
    "    middle = [item for item in arr if item == middle_item]\n",
    "    right = [item for item in arr if item > middle_item]\n",
    "    \n",
    "    return quick_sort(left) + middle + quick_sort(right)\n",
    "\n",
    "test_func(quick_sort)"
   ]
  },
  {
   "cell_type": "code",
   "execution_count": 9,
   "id": "4f15a88f",
   "metadata": {},
   "outputs": [
    {
     "data": {
      "text/plain": [
       "75"
      ]
     },
     "execution_count": 9,
     "metadata": {},
     "output_type": "execute_result"
    }
   ],
   "source": [
    "class Solution:\n",
    "    \"\"\"\n",
    "    Given a positive integer num, split it into two non-negative integers num1 and num2 such that:\n",
    "\n",
    "    The concatenation of num1 and num2 is a permutation of num.\n",
    "    In other words, the sum of the number of occurrences of each digit in num1 and num2 is\n",
    "    equal to the number of occurrences of that digit in num.\n",
    "    num1 and num2 can contain leading zeros.\n",
    "    Return the minimum possible sum of num1 and num2.\n",
    "    \"\"\"\n",
    "    def get_digits(self, num: int) -> str:\n",
    "        ans = \"\"\n",
    "        while num > 0:\n",
    "            ans += str(num % 10)\n",
    "            num //= 10\n",
    "        return \"\".join(sorted(ans))\n",
    "    \n",
    "    def splitNum(self, num: int) -> int:\n",
    "        digits = self.get_digits(num)\n",
    "        return int(digits[::2])+int(digits[1::2])\n",
    "    \n",
    "Solution().splitNum(687)\n"
   ]
  },
  {
   "cell_type": "code",
   "execution_count": null,
   "id": "7f37d97d",
   "metadata": {},
   "outputs": [],
   "source": []
  }
 ],
 "metadata": {
  "kernelspec": {
   "display_name": "Python 3",
   "language": "python",
   "name": "python3"
  },
  "language_info": {
   "codemirror_mode": {
    "name": "ipython",
    "version": 3
   },
   "file_extension": ".py",
   "mimetype": "text/x-python",
   "name": "python",
   "nbconvert_exporter": "python",
   "pygments_lexer": "ipython3",
   "version": "3.8.5"
  }
 },
 "nbformat": 4,
 "nbformat_minor": 5
}
