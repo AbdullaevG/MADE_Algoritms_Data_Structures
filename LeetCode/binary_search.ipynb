{
 "cells": [
  {
   "cell_type": "code",
   "execution_count": 1,
   "id": "480bbc77",
   "metadata": {},
   "outputs": [],
   "source": [
    "from typing import List"
   ]
  },
  {
   "cell_type": "code",
   "execution_count": 14,
   "id": "e578bc96",
   "metadata": {},
   "outputs": [
    {
     "data": {
      "text/plain": [
       "0"
      ]
     },
     "execution_count": 14,
     "metadata": {},
     "output_type": "execute_result"
    }
   ],
   "source": [
    "class Solution:\n",
    "    \"\"\"\n",
    "    Given a sorted array of distinct integers and a target value, \n",
    "    return the index if the target is found. If not, return the index where \n",
    "    it would be if it were inserted in order.\n",
    "\n",
    "    You must write an algorithm with O(log n) runtime complexity.\n",
    "    \n",
    "    Input: nums = [1,3,5,6], target = 5\n",
    "    Output: 2\n",
    "    \n",
    "    Input: nums = [1,3,5,6], target = 2\n",
    "    Output: 1\n",
    "    \n",
    "    Input: nums = [1,3,5,6], target = 7\n",
    "    Output: 4\n",
    "    \"\"\"\n",
    "    def searchInsert(self, nums: List[int], target: int) -> int:\n",
    "        left, right = 0, len(nums)-1\n",
    "        while left <= right:\n",
    "            middle = (left + right) // 2\n",
    "            if nums[middle] == target:\n",
    "                return middle\n",
    "            elif nums[middle] < target:\n",
    "                left = middle + 1\n",
    "            else:\n",
    "                right = middle-1\n",
    "        return left\n",
    "    \n",
    "Solution().searchInsert(nums = [1,3,5,6], target = 0)\n",
    "                "
   ]
  },
  {
   "cell_type": "code",
   "execution_count": 63,
   "id": "4afa949f",
   "metadata": {},
   "outputs": [],
   "source": [
    "class Solution:\n",
    "    \"\"\"\n",
    "    Given a non-negative integer x, return the square root of x rounded down to the nearest integer.\n",
    "    The returned integer should be non-negative as well.\n",
    "    You must not use any built-in exponent function or operator.\n",
    "    \"\"\"\n",
    "    def mySqrt(self, x: int) -> int:\n",
    "        left, right = 0, x\n",
    "          \n",
    "        while left <= right:\n",
    "            middle = (left + right)//2\n",
    "            temp_sq = middle*middle\n",
    "            \n",
    "            if temp_sq == x:\n",
    "                return middle\n",
    "            \n",
    "            elif temp_sq < x:\n",
    "                ans = middle\n",
    "                left = middle + 1\n",
    "                \n",
    "            else:\n",
    "                right = middle - 1\n",
    "            \n",
    "        return ans"
   ]
  },
  {
   "cell_type": "code",
   "execution_count": null,
   "id": "5979e35d",
   "metadata": {},
   "outputs": [],
   "source": [
    "class Solution:\n",
    "    \"\"\"\n",
    "    You are a product manager and currently leading a team to develop a new product. \n",
    "    Unfortunately, the latest version of your product fails the quality check. \n",
    "    Since each version is developed based on the previous version, all the versions after a \n",
    "    bad version are also bad.\n",
    "\n",
    "    Suppose you have n versions [1, 2, ..., n] and you want to find out the first bad one,\n",
    "    which causes all the following ones to be bad.\n",
    "\n",
    "    You are given an API bool isBadVersion(version) which returns whether version is bad.\n",
    "    Implement a function to find the first bad version. You should minimize\n",
    "    the number of calls to the API.\n",
    "    \"\"\"\n",
    "    def firstBadVersion(self, n: int) -> int:\n",
    "        left = 1\n",
    "        right = n\n",
    "        while left < right:\n",
    "            middle = (left + right) // 2\n",
    "\n",
    "            if isBadVersion(middle):\n",
    "                right = middle\n",
    "            \n",
    "            else:\n",
    "                left = middle + 1\n",
    "\n",
    "        return right"
   ]
  },
  {
   "cell_type": "code",
   "execution_count": null,
   "id": "cba1f8de",
   "metadata": {},
   "outputs": [],
   "source": []
  }
 ],
 "metadata": {
  "kernelspec": {
   "display_name": "Python 3",
   "language": "python",
   "name": "python3"
  },
  "language_info": {
   "codemirror_mode": {
    "name": "ipython",
    "version": 3
   },
   "file_extension": ".py",
   "mimetype": "text/x-python",
   "name": "python",
   "nbconvert_exporter": "python",
   "pygments_lexer": "ipython3",
   "version": "3.8.5"
  }
 },
 "nbformat": 4,
 "nbformat_minor": 5
}
