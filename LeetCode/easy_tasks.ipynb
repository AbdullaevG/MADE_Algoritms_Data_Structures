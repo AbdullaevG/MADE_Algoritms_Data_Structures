{
 "cells": [
  {
   "cell_type": "code",
   "execution_count": 11,
   "id": "3508f32c",
   "metadata": {},
   "outputs": [],
   "source": [
    "from typing import List\n",
    "\n",
    "class Solution:\n",
    "    \"\"\"\n",
    "    Given an array of integers nums and an integer target, return indices of the two \n",
    "    numbers such that they add up to target.\n",
    "    You may assume that each input would have exactly one solution, and you may \n",
    "    not use the same element twice.\n",
    "    You can return the answer in any order.\n",
    "    Input: nums = [2,7,11,15], target = 9\n",
    "    Output: [0,1]\n",
    "    \"\"\"\n",
    "    def twoSum(self, nums: List[int], target: int) -> List[int]:\n",
    "        d = {}\n",
    "        for i, num in enumerate(nums):\n",
    "            diff = target - num\n",
    "            if diff in d.keys():\n",
    "                return [d[diff], i]\n",
    "            else:\n",
    "                d[num] = i"
   ]
  },
  {
   "cell_type": "code",
   "execution_count": 5,
   "id": "afbb5181",
   "metadata": {},
   "outputs": [
    {
     "data": {
      "text/plain": [
       "[0, 3, 9]"
      ]
     },
     "execution_count": 5,
     "metadata": {},
     "output_type": "execute_result"
    }
   ],
   "source": [
    "class ListNode:\n",
    "     def __init__(self, val=0, next=None):\n",
    "        self.val = val\n",
    "        self.next = next\n",
    "        \n",
    "class Solution:\n",
    "    \"\"\"\n",
    "    You are given two non-empty linked lists representing two non-negative integers. \n",
    "    The digits are stored in reverse order, and each of their nodes contains a single digit. \n",
    "    Add the two numbers and return the sum as a linked list.\n",
    "    You may assume the two numbers do not contain any leading zero,\n",
    "    except the number 0 itself.\n",
    "    Input: l1 = [2,4,3], l2 = [5,6,4]\n",
    "    Output: [7,0,8]\n",
    "    Explanation: 342 + 465 = 807.\n",
    "    \"\"\"\n",
    "    def addTwoNumbers(self, l1: ListNode, l2: ListNode) -> ListNode:\n",
    "        result = []\n",
    "        carry = 0\n",
    "        \n",
    "        while l1 or l2 or carry:\n",
    "            d1, d2 = 0, 0\n",
    "            if l1:\n",
    "                d1 = l1.val\n",
    "                l1 = l1.next\n",
    "                \n",
    "            if l2:\n",
    "                d2 = l2.val\n",
    "                l2 = l2.next\n",
    "                \n",
    "            carry, temp_result = divmod(d1 + d2 + carry, 10)\n",
    "            result.append(temp_result)\n",
    "        \n",
    "        return result\n",
    "    \n",
    "    \n",
    "def get_linked_list(lst):\n",
    "    N = len(lst)\n",
    "    prev = ListNode(val = lst[0])\n",
    "    lst[0] = prev\n",
    "    for i in range(1, N):\n",
    "        node = ListNode(val = lst[i])\n",
    "        prev.next = node\n",
    "        lst[i] = node\n",
    "        prev = node\n",
    "    return lst\n",
    "\n",
    "ll1 = get_linked_list([5, 6, 4])\n",
    "ll2 = get_linked_list([5, 6, 4])\n",
    "Solution().addTwoNumbers(ll1[0], ll2[0])\n",
    "            "
   ]
  },
  {
   "cell_type": "code",
   "execution_count": 231,
   "id": "b7ef5038",
   "metadata": {},
   "outputs": [],
   "source": [
    "class Solution:\n",
    "    \"\"\"\n",
    "    Given a string s, find the length of the longest \n",
    "    substring without repeating characters.\n",
    "    Input: s = \"abcabcbb\"\n",
    "    Output: 3\n",
    "    Explanation: The answer is \"abc\", with the length of 3.\n",
    "    \n",
    "    Input: s = \"pwwkew\"\n",
    "    Output: 3\n",
    "    Explanation: The answer is \"wke\", with the length of 3.\n",
    "    Notice that the answer must be a substring, \"pwke\" is a subsequence and not a substring.\n",
    "    \"\"\"\n",
    "    def lengthOfLongestSubstring(self, s: str) -> int:\n",
    "        \n",
    "        if len(s) <= 1:\n",
    "            return len(s)\n",
    "        \n",
    "        max_length=-1\n",
    "        sub_string = \"\" + s[0]\n",
    "        j, i = 0, 1\n",
    "        while i < len(s):\n",
    "            print(s[j:i])\n",
    "            for k in range(i-1, j-1, -1):\n",
    "                if s[k] == s[i]:\n",
    "                    if i-j > max_length:\n",
    "                        max_length = i - j\n",
    "                        sub_string = s[j:i]\n",
    "                    j = k+1\n",
    "            i += 1\n",
    "        if i-j > max_length:\n",
    "                        max_length = i - j\n",
    "                        sub_string = s[j:i]\n",
    "                    \n",
    "        #if max_length == -1:\n",
    "        #    return len(s), s\n",
    "        \n",
    "        return max_length, sub_string\n",
    "                    \n",
    "        \n",
    "class Solution:\n",
    "    \"\"\"\n",
    "    Given a string s, find the length of the longest \n",
    "    substring without repeating characters.\n",
    "    Input: s = \"abcabcbb\"\n",
    "    Output: 3\n",
    "    Explanation: The answer is \"abc\", with the length of 3.\n",
    "    \n",
    "    Input: s = \"pwwkew\"\n",
    "    Output: 3\n",
    "    Explanation: The answer is \"wke\", with the length of 3.\n",
    "    Notice that the answer must be a substring, \"pwke\" is a subsequence and not a substring.\n",
    "    \"\"\"\n",
    "    def lengthOfLongestSubstring(self, s):\n",
    "        window = set()\n",
    "        \n",
    "        start, end, max_len, n = 0, 0, 0, len(s)\n",
    "        \n",
    "        while start < n and end < n:\n",
    "            if s[end] not in window:\n",
    "                window.add(s[end])\n",
    "                end += 1\n",
    "                max_len = max(max_len, end-start)\n",
    "            else:\n",
    "                window.remove(s[start])\n",
    "                start += 1\n",
    "                \n",
    "        return max_len"
   ]
  },
  {
   "cell_type": "code",
   "execution_count": 54,
   "id": "cc6af4f8",
   "metadata": {},
   "outputs": [],
   "source": [
    "class Solution:\n",
    "    \"\"\"\n",
    "    Given two sorted arrays nums1 and nums2 of size m and n respectively, return the median of the two sorted arrays.\n",
    "    The overall run time complexity should be O(log (m+n)).\n",
    "    \n",
    "    Input: nums1 = [1,3], nums2 = [2]\n",
    "    Output: 2.00000\n",
    "    Explanation: merged array = [1,2,3] and median is 2.\n",
    "    \n",
    "    Input: nums1 = [1,2], nums2 = [3,4]\n",
    "    Output: 2.50000\n",
    "    Explanation: merged array = [1,2,3,4] and median is (2 + 3) / 2 = 2.5.\n",
    "    \n",
    "    \"\"\"\n",
    "    def findMedianSortedArrays(self, nums1, nums2) -> float:\n",
    "        n1, n2 = len(nums1), len(nums2)\n",
    "        \n",
    "        if (n1+n2) % 2:\n",
    "            idx1, idx2 = (n1+n2) // 2, None\n",
    "            end_point = idx1\n",
    "        else:\n",
    "            idx1, idx2 = ((n1+n2) // 2)-1, (n1+n2) // 2\n",
    "            end_point = idx1+1\n",
    "        print(\"idx\", idx1, idx2)\n",
    "        print()\n",
    "        i, j = -1, -1\n",
    "        last_i = True\n",
    "        temp = None\n",
    "        prev = None\n",
    "        while i + j < n1 + n2:\n",
    "            if j == n2 or (i<n1-1 and nums1[i] < nums2[j]):\n",
    "                i += 1\n",
    "                prev = temp\n",
    "                temp = nums1[i]\n",
    "            else:\n",
    "                j += 1\n",
    "                prev = temp\n",
    "                temp = nums2[j]\n",
    "                   \n",
    "            print(prev, temp)       \n",
    "            if i + j == end_point-1:\n",
    "                break\n",
    "                \n",
    "        return prev, temp, i, j\n",
    "        \n",
    "        "
   ]
  },
  {
   "cell_type": "code",
   "execution_count": 105,
   "id": "fed11503",
   "metadata": {},
   "outputs": [],
   "source": [
    "from typing import List\n",
    "class Solution:\n",
    "    \"\"\"\n",
    "    Given an integer array nums sorted in non-decreasing order, \n",
    "    remove the duplicates in-place such that each unique element appears only once. \n",
    "    The relative order of the elements should be kept the same. Then return the number\n",
    "    of unique elements in nums.\n",
    "    \n",
    "    Input: nums = [1,1,2]\n",
    "    Output: 2, nums = [1,2,_]\n",
    "    \"\"\"\n",
    "    def removeDuplicates(self, nums: List[int]) -> int:\n",
    "        result = []\n",
    "        \n",
    "        if len(nums) == 0:\n",
    "            return 0, []\n",
    "        \n",
    "        i, k = 0, 1\n",
    "        item = nums[i]\n",
    "        while i < len(nums):\n",
    "            if nums[i] != item:\n",
    "                k += 1\n",
    "                nums[k-1] = nums[i] \n",
    "                item = nums[i]\n",
    "            i += 1\n",
    "            \n",
    "        nums = [nums[i] if i < k else \"_\" for i in range(len(nums))]\n",
    "        return k, nums"
   ]
  },
  {
   "cell_type": "code",
   "execution_count": 42,
   "id": "1630c8c9",
   "metadata": {},
   "outputs": [],
   "source": [
    "from typing import List\n",
    "class Solution:\n",
    "    \"\"\"\n",
    "    Given an integer array nums and an integer val, \n",
    "    remove all occurrences of val in nums in-place. \n",
    "    The order of the elements may be changed. \n",
    "    Then return the number of elements in nums which are not equal to val.\n",
    "    Input: nums = [3,2,2,3], val = 3\n",
    "    Output: 2, nums = [2,2,_,_]\n",
    "    \"\"\"\n",
    "\n",
    "    def removeElement(self, arr: List[int], val: int) -> int:\n",
    "        idx_list = []\n",
    "        k = 0\n",
    "        for i in range(len(arr)-1, -1, -1):\n",
    "            #print(\"temp item: \", arr[i], \"idx_list: \", idx_list)\n",
    "            if arr[i] == val:\n",
    "                if idx_list:\n",
    "                    idx = idx_list.pop(0)\n",
    "                    arr[i], arr[idx] = arr[idx], arr[i]\n",
    "                    idx_list.append(i)\n",
    "            else:\n",
    "                idx_list.append(i)\n",
    "                k += 1\n",
    "        return k, arr[:k]\n",
    "    \n",
    "    \n",
    "class Solution_:\n",
    "    def removeElement(self, nums: List[int], val: int) -> int:\n",
    "        n_valid = 0\n",
    "\n",
    "        for ind in range(len(nums)):\n",
    "            if nums[ind] != val:\n",
    "                nums[n_valid] = nums[ind]\n",
    "                n_valid += 1\n",
    "        \n",
    "        return n_valid, nums[:n_valid]"
   ]
  },
  {
   "cell_type": "code",
   "execution_count": 43,
   "id": "932c1409",
   "metadata": {},
   "outputs": [
    {
     "data": {
      "text/plain": [
       "(7, [0, 1, 3, 0, 4, 5, 7])"
      ]
     },
     "execution_count": 43,
     "metadata": {},
     "output_type": "execute_result"
    }
   ],
   "source": [
    "arr = Solution_().removeElement([0,1,2,2,3,0,4,2, 5, 7,2], 2)\n",
    "arr"
   ]
  },
  {
   "cell_type": "code",
   "execution_count": 44,
   "id": "bf213712",
   "metadata": {},
   "outputs": [
    {
     "data": {
      "text/plain": [
       "(7, [0, 1, 7, 5, 3, 0, 4])"
      ]
     },
     "execution_count": 44,
     "metadata": {},
     "output_type": "execute_result"
    }
   ],
   "source": [
    "arr = Solution().removeElement([0,1,2,2,3,0,4,2, 5, 7,2], 2)\n",
    "arr"
   ]
  },
  {
   "cell_type": "code",
   "execution_count": 125,
   "id": "9c20eeb1",
   "metadata": {},
   "outputs": [
    {
     "name": "stdout",
     "output_type": "stream",
     "text": [
      "yes\n"
     ]
    }
   ],
   "source": [
    "a = [0]\n",
    "if a:\n",
    "    print(\"yes\")"
   ]
  },
  {
   "cell_type": "code",
   "execution_count": 143,
   "id": "5583b082",
   "metadata": {},
   "outputs": [
    {
     "data": {
      "text/plain": [
       "2"
      ]
     },
     "execution_count": 143,
     "metadata": {},
     "output_type": "execute_result"
    }
   ],
   "source": [
    "[2, 3, 4].pop(0)"
   ]
  },
  {
   "cell_type": "code",
   "execution_count": null,
   "id": "84f4ef04",
   "metadata": {},
   "outputs": [],
   "source": []
  }
 ],
 "metadata": {
  "kernelspec": {
   "display_name": "Python 3",
   "language": "python",
   "name": "python3"
  },
  "language_info": {
   "codemirror_mode": {
    "name": "ipython",
    "version": 3
   },
   "file_extension": ".py",
   "mimetype": "text/x-python",
   "name": "python",
   "nbconvert_exporter": "python",
   "pygments_lexer": "ipython3",
   "version": "3.8.5"
  }
 },
 "nbformat": 4,
 "nbformat_minor": 5
}
