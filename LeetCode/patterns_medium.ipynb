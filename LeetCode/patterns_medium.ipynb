{
 "cells": [
  {
   "cell_type": "code",
   "execution_count": 1,
   "id": "3041d051",
   "metadata": {},
   "outputs": [],
   "source": [
    "from typing import List\n",
    "class Solution:\n",
    "    \"\"\"\n",
    "    Given an array of integers nums containing n + 1 integers where each integer is in the range \n",
    "    [1, n] inclusive. There is only one repeated number in nums, return this repeated number.\n",
    "\n",
    "    You must solve the problem without modifying the array nums and uses only constant extra space.\n",
    "    \n",
    "    idea: find loops in linked list\n",
    "    \n",
    "    Input: nums = [1,3,4,2,2]\n",
    "    Output: 2\n",
    "    \n",
    "    Input: nums = [3,1,3,4,2]\n",
    "    Output: 3\n",
    "    \"\"\"\n",
    "    def findDuplicate(self, nums: List[int]) -> int:\n",
    "        slow = nums[0]\n",
    "        fast = nums[nums[0]]\n",
    "        while slow != fast:\n",
    "            slow = nums[slow]\n",
    "            fast = nums[nums[fast]]\n",
    "        \n",
    "        fast = 0\n",
    "        while slow != fast:\n",
    "            slow = nums[slow]\n",
    "            fast = nums[fast]\n",
    "        return slow"
   ]
  },
  {
   "cell_type": "code",
   "execution_count": 2,
   "id": "eec4f3c8",
   "metadata": {},
   "outputs": [],
   "source": [
    "class Solution:\n",
    "    \"\"\"\n",
    "    Given an integer array nums of length n where all the integers of nums are in the range [1, n] \n",
    "    and each integer appears once or twice, return an array of all the integers that appears twice.\n",
    "\n",
    "    You must write an algorithm that runs in O(n) time and uses only constant extra space.\n",
    "    \n",
    "    Input: nums = [4,3,2,7,8,2,3,1]\n",
    "    Output: [2,3]\n",
    "    \n",
    "    Input: nums = [1,1,2]\n",
    "    Output: [1]\n",
    "    \n",
    "    Input: nums = [1]\n",
    "    Output: []\n",
    "    \"\"\"\n",
    "    def findDuplicates(self, nums: List[int]) -> List[int]:\n",
    "        result = set()\n",
    "        for i in range(len(nums)):\n",
    "            index = abs(nums[i]) - 1\n",
    "            if nums[index] < 0:\n",
    "                result.add(index+1)\n",
    "            else:\n",
    "                nums[index] = -nums[index]\n",
    "                \n",
    "        return list(result)"
   ]
  },
  {
   "cell_type": "code",
   "execution_count": null,
   "id": "a7f12e19",
   "metadata": {},
   "outputs": [],
   "source": []
  }
 ],
 "metadata": {
  "kernelspec": {
   "display_name": "Python 3",
   "language": "python",
   "name": "python3"
  },
  "language_info": {
   "codemirror_mode": {
    "name": "ipython",
    "version": 3
   },
   "file_extension": ".py",
   "mimetype": "text/x-python",
   "name": "python",
   "nbconvert_exporter": "python",
   "pygments_lexer": "ipython3",
   "version": "3.8.5"
  }
 },
 "nbformat": 4,
 "nbformat_minor": 5
}
