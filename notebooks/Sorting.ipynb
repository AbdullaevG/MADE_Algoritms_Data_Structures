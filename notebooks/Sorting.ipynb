{
 "cells": [
  {
   "cell_type": "code",
   "execution_count": 14,
   "metadata": {},
   "outputs": [],
   "source": [
    "import math\n",
    "import pandas as pd"
   ]
  },
  {
   "cell_type": "code",
   "execution_count": 15,
   "metadata": {},
   "outputs": [],
   "source": [
    "SIZES = [1_000, 10_000, 20_000]\n",
    "\n",
    "def test_sort(algorithm):\n",
    "    A1 = [6, 5, 2, 3, -2, 4, 1]\n",
    "    A1 = algorithm(A1)\n",
    "    if A1 == [-2, 1, 2, 3, 4, 5, 6]:\n",
    "        print(\"test#1 __ ok!\")\n",
    "    else:\n",
    "        print(\"test#1 __ fail!\")\n",
    "    A2 = [-1, 100, -100, 0.5, -1, 10, 0, 1, 1, 2, -2]\n",
    "    A2 = algorithm(A2)\n",
    "    if A2 == [-100, -2, -1, -1, 0, 0.5, 1, 1, 2, 10, 100]:\n",
    "        print(\"test#2 __ ok!\")\n",
    "    else:\n",
    "        print(\"test#2 __ fail!\")\n",
    "    A3 = [-1, 1, 0, -1, 0, -1, -1, 1, 1, 1, -1]\n",
    "    A3 = algorithm(A3)\n",
    "    if A3 == [-1, -1, -1, -1, -1, 0, 0, 1, 1, 1, 1]:\n",
    "        print(\"test#3 __ ok!\")\n",
    "    else:\n",
    "        print(\"test#3 __ fail!\")"
   ]
  },
  {
   "cell_type": "code",
   "execution_count": 16,
   "metadata": {},
   "outputs": [],
   "source": [
    "# testing time execution\n",
    "import time\n",
    "import numpy as np\n",
    "\n",
    "def get_time_execution(algorithm, size):\n",
    "    arr = np.random.randint(-100, 100, size = size)\n",
    "    start_time = time.time()\n",
    "    algorithm(list(arr))\n",
    "    execution_time = time.time() - start_time\n",
    "    return execution_time\n",
    "    \n",
    "def print_time_execution(algorithm, sizes = SIZES):\n",
    "    for size in sizes:\n",
    "        execution_time = get_time_execution(algorithm, size)\n",
    "        print(f\"list size: {size}, execution_time: {execution_time:.3f} s\")\n",
    "            \n",
    "        "
   ]
  },
  {
   "cell_type": "code",
   "execution_count": 17,
   "metadata": {},
   "outputs": [],
   "source": [
    "# Сортировка выбором c дополнительной памятью\n",
    "\n",
    "def choosen_sort_mem(A):\n",
    "    A1 = []\n",
    "    while len(A) > 0:\n",
    "        min_element_index = 0\n",
    "        for index in range(1, len(A)):\n",
    "            if A[index] < A[min_element_index]:\n",
    "                min_element_index = index\n",
    "        A1.append(A.pop(min_element_index))\n",
    "    A = A1\n",
    "    return A"
   ]
  },
  {
   "cell_type": "code",
   "execution_count": 18,
   "metadata": {},
   "outputs": [],
   "source": [
    "# Сортировка выбором без дополнительной памяти\n",
    "\n",
    "def choosen_sort(A):\n",
    "    for i in range(len(A)):\n",
    "        for j in range(i, len(A)):\n",
    "            if A[i] > A[j]:\n",
    "                A[i], A[j] = A[j], A[i]\n",
    "    return A"
   ]
  },
  {
   "cell_type": "code",
   "execution_count": 19,
   "metadata": {},
   "outputs": [
    {
     "name": "stdout",
     "output_type": "stream",
     "text": [
      "test#1 __ ok!\n",
      "test#2 __ ok!\n",
      "test#3 __ ok!\n"
     ]
    }
   ],
   "source": [
    "test_sort(choosen_sort_mem)"
   ]
  },
  {
   "cell_type": "code",
   "execution_count": 20,
   "metadata": {},
   "outputs": [
    {
     "name": "stdout",
     "output_type": "stream",
     "text": [
      "test#1 __ ok!\n",
      "test#2 __ ok!\n",
      "test#3 __ ok!\n"
     ]
    }
   ],
   "source": [
    "test_sort(choosen_sort)"
   ]
  },
  {
   "cell_type": "code",
   "execution_count": 21,
   "metadata": {},
   "outputs": [
    {
     "name": "stdout",
     "output_type": "stream",
     "text": [
      "list size: 1000, execution_time: 0.115 s\n",
      "list size: 10000, execution_time: 10.768 s\n",
      "list size: 20000, execution_time: 39.087 s\n"
     ]
    }
   ],
   "source": [
    "# Testing time\n",
    "print_time_execution(choosen_sort)"
   ]
  },
  {
   "cell_type": "code",
   "execution_count": 7,
   "metadata": {},
   "outputs": [],
   "source": [
    "df = pd.DataFrame({\"x\" : range(10)})\n",
    "df['y'] = df.eval(\"x + 1\")\n",
    "df.iloc[:3]"
   ]
  },
  {
   "cell_type": "code",
   "execution_count": 22,
   "metadata": {},
   "outputs": [],
   "source": [
    "def insert_sort(A:list):\n",
    "    for i in range(1, len(A)):\n",
    "        j = i\n",
    "        while j > 0 and A[j] < A[j-1]:\n",
    "            A[j], A[j-1] = A[j-1], A[j]\n",
    "            j -= 1\n",
    "    return A"
   ]
  },
  {
   "cell_type": "code",
   "execution_count": 23,
   "metadata": {},
   "outputs": [
    {
     "name": "stdout",
     "output_type": "stream",
     "text": [
      "test#1 __ ok!\n",
      "test#2 __ ok!\n",
      "test#3 __ ok!\n"
     ]
    }
   ],
   "source": [
    "test_sort(insert_sort)"
   ]
  },
  {
   "cell_type": "code",
   "execution_count": 25,
   "metadata": {},
   "outputs": [
    {
     "name": "stdout",
     "output_type": "stream",
     "text": [
      "list size: 1000, execution_time: 0.192 s\n",
      "list size: 10000, execution_time: 20.508 s\n",
      "list size: 20000, execution_time: 78.458 s\n"
     ]
    }
   ],
   "source": [
    "# Testing time\n",
    "print_time_execution(insert_sort)"
   ]
  },
  {
   "cell_type": "code",
   "execution_count": 26,
   "metadata": {},
   "outputs": [],
   "source": [
    "def bubble_sort(A:list):\n",
    "    K = len(A) - 1\n",
    "    while K > 0:\n",
    "        for i in range(0, K):\n",
    "            if A[i] > A[i+1]:\n",
    "                A[i], A[i+1] = A[i+1], A[i]\n",
    "        K -= 1\n",
    "    return A"
   ]
  },
  {
   "cell_type": "code",
   "execution_count": 27,
   "metadata": {},
   "outputs": [
    {
     "name": "stdout",
     "output_type": "stream",
     "text": [
      "test#1 __ ok!\n",
      "test#2 __ ok!\n",
      "test#3 __ ok!\n"
     ]
    }
   ],
   "source": [
    "test_sort(bubble_sort)"
   ]
  },
  {
   "cell_type": "code",
   "execution_count": 29,
   "metadata": {},
   "outputs": [
    {
     "name": "stdout",
     "output_type": "stream",
     "text": [
      "list size: 1000, execution_time: 0.226 s\n",
      "list size: 10000, execution_time: 21.437 s\n",
      "list size: 20000, execution_time: 87.399 s\n"
     ]
    }
   ],
   "source": [
    "# Testing time\n",
    "print_time_execution(bubble_sort)"
   ]
  },
  {
   "cell_type": "code",
   "execution_count": 230,
   "metadata": {},
   "outputs": [],
   "source": [
    "def qwick_sort(A):\n",
    "    if len(A) < 2:\n",
    "        return A\n",
    "    else:\n",
    "        pivot_index = np.random.randint(0, len(A)-1)\n",
    "        pivot = A[pivot_index]\n",
    "        L = [item for item in A if item < pivot]\n",
    "        M = [item for item in A if item == pivot]\n",
    "        R = [item for item in A if item > pivot]\n",
    "        return qwick_sort(L) + M +  qwick_sort(R)"
   ]
  },
  {
   "cell_type": "code",
   "execution_count": 31,
   "metadata": {},
   "outputs": [],
   "source": [
    "def qwick_sort(A):\n",
    "    if len(A) < 2:\n",
    "        return A\n",
    "    else:\n",
    "        pivot_index = np.random.randint(0, len(A)-1)\n",
    "        pivot = A[pivot_index]\n",
    "        L = [item for item in A if item < pivot]\n",
    "        M = [item for item in A if item == pivot]\n",
    "        R = [item for item in A if item > pivot]\n",
    "        return qwick_sort(L) + M +  qwick_sort(R)\n",
    "    "
   ]
  },
  {
   "cell_type": "code",
   "execution_count": 33,
   "metadata": {},
   "outputs": [
    {
     "name": "stdout",
     "output_type": "stream",
     "text": [
      "test#1 __ ok!\n",
      "test#2 __ ok!\n",
      "test#3 __ ok!\n"
     ]
    }
   ],
   "source": [
    "test_sort(qwick_sort)"
   ]
  },
  {
   "cell_type": "code",
   "execution_count": 35,
   "metadata": {},
   "outputs": [
    {
     "name": "stdout",
     "output_type": "stream",
     "text": [
      "list size: 1000, execution_time: 0.008 s\n",
      "list size: 10000, execution_time: 0.065 s\n",
      "list size: 20000, execution_time: 0.056 s\n"
     ]
    }
   ],
   "source": [
    "# Testing time\n",
    "print_time_execution(qwick_sort)"
   ]
  },
  {
   "cell_type": "code",
   "execution_count": 38,
   "metadata": {},
   "outputs": [],
   "source": [
    "k = 0\n",
    " \n",
    "def merge(A:list, B:list):\n",
    "    global k\n",
    "    C = [0] * (len(A) + len(B))\n",
    "    l, r, i = 0, 0, 0\n",
    "    while (l < len(A)) and (r < len(B)):\n",
    "        if A[l] <= B[r]:\n",
    "            C[i] = A[l]\n",
    "            l += 1\n",
    "            i += 1\n",
    "        else:\n",
    "            C[i] = B[r]\n",
    "            r += 1\n",
    "            i += 1\n",
    "            k += len(A[l:])\n",
    "    while l < len(A):\n",
    "        C[i] = A[l]\n",
    "        l += 1\n",
    "        i += 1\n",
    "    while r < len(B):\n",
    "        C[i] = B[r]\n",
    "        r += 1\n",
    "        i += 1\n",
    "    return C\n",
    "\n",
    "\n",
    "def merge_sort(seq):\n",
    "    if len(seq) <= 1:\n",
    "        return \n",
    "    middle = len(seq)//2\n",
    "    left = seq[:middle]\n",
    "    right = seq[middle:]\n",
    "    merge_sort(left)\n",
    "    merge_sort(right)\n",
    "    merged_list = merge(left, right)\n",
    "    for i in range(len(seq)):\n",
    "        seq[i] = merged_list[i]\n",
    "    return seq"
   ]
  },
  {
   "cell_type": "code",
   "execution_count": 40,
   "metadata": {},
   "outputs": [
    {
     "name": "stdout",
     "output_type": "stream",
     "text": [
      "test#1 __ ok!\n",
      "test#2 __ ok!\n",
      "test#3 __ ok!\n"
     ]
    }
   ],
   "source": [
    "test_sort(merge_sort)"
   ]
  },
  {
   "cell_type": "code",
   "execution_count": 41,
   "metadata": {},
   "outputs": [
    {
     "name": "stdout",
     "output_type": "stream",
     "text": [
      "list size: 1000, execution_time: 0.024 s\n",
      "list size: 10000, execution_time: 0.279 s\n",
      "list size: 20000, execution_time: 0.844 s\n"
     ]
    }
   ],
   "source": [
    "# Testing time\n",
    "print_time_execution(merge_sort)"
   ]
  },
  {
   "cell_type": "code",
   "execution_count": null,
   "metadata": {},
   "outputs": [],
   "source": []
  }
 ],
 "metadata": {
  "kernelspec": {
   "display_name": "Python 3",
   "language": "python",
   "name": "python3"
  },
  "language_info": {
   "codemirror_mode": {
    "name": "ipython",
    "version": 3
   },
   "file_extension": ".py",
   "mimetype": "text/x-python",
   "name": "python",
   "nbconvert_exporter": "python",
   "pygments_lexer": "ipython3",
   "version": "3.8.5"
  }
 },
 "nbformat": 4,
 "nbformat_minor": 4
}
