{
 "cells": [
  {
   "cell_type": "code",
   "execution_count": 3,
   "id": "62a2a3e8",
   "metadata": {},
   "outputs": [
    {
     "data": {
      "text/plain": [
       "(2, 1)"
      ]
     },
     "execution_count": 3,
     "metadata": {},
     "output_type": "execute_result"
    }
   ],
   "source": [
    "def get_max(lst, start, end):\n",
    "    temp_max = lst[start]\n",
    "    idx = start\n",
    "    \n",
    "    for i in range(start, end):\n",
    "        if lst[i] > temp_max:\n",
    "            temp_max = lst[i]\n",
    "            idx = i\n",
    "            \n",
    "    return (temp_max, idx)\n",
    "\n",
    "get_max([0, 2, -3, 5, 0], 0, 3)"
   ]
  },
  {
   "cell_type": "code",
   "execution_count": 30,
   "id": "920bbc1b",
   "metadata": {},
   "outputs": [
    {
     "name": "stdout",
     "output_type": "stream",
     "text": [
      "7\n",
      "3\n",
      "1 2 4 5 "
     ]
    }
   ],
   "source": [
    "def grasshopper_earn(n, k, lst):\n",
    "    moneys = [0] + lst + [0]\n",
    "    columns = [None for i in range(n)]\n",
    "        \n",
    "    for i in range(1, n):\n",
    "        start_idx = max(0, i-k)\n",
    "        prev_earn, idx = get_max(moneys, start_idx, i) \n",
    "        moneys[i] += prev_earn\n",
    "        columns[i] = idx\n",
    "    \n",
    "    print(moneys[-1])\n",
    "    \n",
    "    visited = [n]\n",
    "    temp_idx = columns[-1]\n",
    "    while temp_idx is not None:\n",
    "        visited.append(temp_idx + 1)\n",
    "        temp_idx = columns[temp_idx]\n",
    "        \n",
    "    total_hops = len(visited) - 1\n",
    "    print(total_hops)\n",
    "    for i in range(total_hops, -1, -1):\n",
    "        print(visited[i], end = \" \")\n",
    "\n",
    "butterfly_earn(5, 3, [2, -3, 5])"
   ]
  },
  {
   "cell_type": "code",
   "execution_count": 27,
   "id": "6318bdce",
   "metadata": {},
   "outputs": [
    {
     "name": "stdout",
     "output_type": "stream",
     "text": [
      "-16\n",
      "4\n",
      "1 3 6 8 10 "
     ]
    }
   ],
   "source": [
    "butterfly_earn(10, 3, [-13, -2, -14, -124, -9, -6, -5, -7])"
   ]
  },
  {
   "cell_type": "code",
   "execution_count": 28,
   "id": "c6c5e03b",
   "metadata": {},
   "outputs": [
    {
     "name": "stdout",
     "output_type": "stream",
     "text": [
      "14\n",
      "7\n",
      "1 6 7 8 9 10 11 12 "
     ]
    }
   ],
   "source": [
    "butterfly_earn(12, 5, [-5, -4, -3, -2, -1, 1, 2, 3, 4, 5])"
   ]
  },
  {
   "cell_type": "code",
   "execution_count": 39,
   "id": "1268ffbc",
   "metadata": {},
   "outputs": [
    {
     "data": {
      "text/plain": [
       "5"
      ]
     },
     "execution_count": 39,
     "metadata": {},
     "output_type": "execute_result"
    }
   ],
   "source": [
    "grid_values = [[4, 5, 3, 2, 9], [4, 6, 7, 5, 9], [5, 2, 5, -3, -10], [3, 5, 2, 9, 3]]\n",
    "grid_values[0][1]"
   ]
  },
  {
   "cell_type": "code",
   "execution_count": 79,
   "id": "1dc9588a",
   "metadata": {},
   "outputs": [],
   "source": [
    "def spyder_earn(n, m, grid_values):\n",
    "    dp = [[0 for _ in range(m)] for _ in range(n)]\n",
    "    p = [[None for _ in range(m)] for _ in range(n)]\n",
    "    dp[0][0] = grid_values[0][0]\n",
    "    p[0][0] = None\n",
    "    for i in range(n):\n",
    "        for j in range(m):\n",
    "            temp_cell_money = grid_values[i][j]\n",
    "            if i==0 and j > 0:\n",
    "                dp[i][j] = dp[i][j-1] + temp_cell_money\n",
    "                p[i][j] = (i, j-1)\n",
    "            if j==0 and i > 0:\n",
    "                dp[i][j] = dp[i-1][j] + temp_cell_money\n",
    "                p[i][j] = (i-1, j)\n",
    "            if i > 0 and j > 0:\n",
    "                if dp[i-1][j] > dp[i][j-1]:\n",
    "                    dp[i][j] = dp[i-1][j] + temp_cell_money\n",
    "                    p[i][j] = (i-1, j)\n",
    "                else:\n",
    "                    dp[i][j] = dp[i][j-1] + temp_cell_money\n",
    "                    p[i][j] = (i, j-1)\n",
    "                \n",
    "    return dp,p"
   ]
  },
  {
   "cell_type": "code",
   "execution_count": 77,
   "id": "088af1b9",
   "metadata": {},
   "outputs": [],
   "source": [
    "def get_traject(p):\n",
    "    temp_cell = p[-1][-1]\n",
    "    traject = []\n",
    "    \n",
    "    while temp_cell is not None:\n",
    "        x, y = temp_cell[0], temp_cell[1]\n",
    "        traject.append((x, y))\n",
    "        temp_cell = p[x][y]\n",
    "        #print(temp_cell)\n",
    "    s = \"\"\n",
    "    first = traject[-1]\n",
    "    #for i in range(len(traject)-1, 1, -1):\n",
    "        #if traject[i+1][1] >  traject[i][1]:\n",
    "        #    s += \"D\"\n",
    "        #else:\n",
    "        #    s += \"R\"\n",
    "    print(s)\n",
    "    return traject"
   ]
  },
  {
   "cell_type": "code",
   "execution_count": 78,
   "id": "05b39847",
   "metadata": {},
   "outputs": [
    {
     "data": {
      "text/plain": [
       "(3, 2)"
      ]
     },
     "execution_count": 78,
     "metadata": {},
     "output_type": "execute_result"
    }
   ],
   "source": [
    "p[3][3]"
   ]
  },
  {
   "cell_type": "code",
   "execution_count": 74,
   "id": "92c98fa7",
   "metadata": {},
   "outputs": [
    {
     "name": "stdout",
     "output_type": "stream",
     "text": [
      "\n"
     ]
    },
    {
     "data": {
      "text/plain": [
       "[(3, 3), (3, 2), (2, 2), (1, 2), (1, 1), (0, 1), (0, 0)]"
      ]
     },
     "execution_count": 74,
     "metadata": {},
     "output_type": "execute_result"
    }
   ],
   "source": [
    "traject = get_traject(p)\n",
    "traject"
   ]
  },
  {
   "cell_type": "code",
   "execution_count": 91,
   "id": "0109915f",
   "metadata": {},
   "outputs": [
    {
     "name": "stdout",
     "output_type": "stream",
     "text": [
      "(3, 2) (2, 2) (1, 2) (1, 1) (0, 1) (0, 0) RDRDDR\n"
     ]
    }
   ],
   "source": [
    "s = \"\"\n",
    "for i in range(1, len(traject)):\n",
    "    print(traject[i], end =\" \")\n",
    "    if traject[i][1] ==  traject[i-1][1]:\n",
    "        s += \"D\"\n",
    "        \n",
    "    else:\n",
    "        s += \"R\"\n",
    "\n",
    "print(s[::-1])"
   ]
  },
  {
   "cell_type": "code",
   "execution_count": 85,
   "id": "671c0cfb",
   "metadata": {},
   "outputs": [
    {
     "name": "stdout",
     "output_type": "stream",
     "text": [
      "(0, 0) (0, 1) (1, 1) (1, 2) (2, 2) (3, 2) DRDRRD\n"
     ]
    }
   ],
   "source": [
    "s = \"\"\n",
    "for i in range(len(traject)-1, 0, -1):\n",
    "    print(traject[i], end =\" \")\n",
    "    if traject[i][1] <  traject[i-1][1]:\n",
    "        s += \"D\"\n",
    "        \n",
    "    else:\n",
    "        s += \"R\"\n",
    "print(s)"
   ]
  },
  {
   "cell_type": "code",
   "execution_count": 81,
   "id": "4e4dad9f",
   "metadata": {},
   "outputs": [
    {
     "name": "stdout",
     "output_type": "stream",
     "text": [
      "[4, 9, 12, 14, 23]\n",
      "[8, 15, 22, 27, 36]\n",
      "[13, 17, 27, 24, 26]\n",
      "[16, 22, 29, 38, 41]\n",
      "\n",
      "[None, (0, 0), (0, 1), (0, 2), (0, 3)]\n",
      "[(0, 0), (0, 1), (1, 1), (1, 2), (1, 3)]\n",
      "[(1, 0), (1, 1), (1, 2), (2, 2), (1, 4)]\n",
      "[(2, 0), (2, 1), (2, 2), (3, 2), (3, 3)]\n"
     ]
    }
   ],
   "source": [
    "dp, p = spyder_earn(4, 5, grid_values)\n",
    "for row in dp:\n",
    "    print(row)\n",
    "    \n",
    "print()\n",
    "for row in p:\n",
    "    print(row)"
   ]
  },
  {
   "cell_type": "code",
   "execution_count": 99,
   "id": "c7aaf4ba",
   "metadata": {},
   "outputs": [
    {
     "name": "stdout",
     "output_type": "stream",
     "text": [
      "3 3\n",
      "3 2\n",
      "2 2\n",
      "1 2\n",
      "1 1\n",
      "0 1\n",
      "-1 1\n",
      "-2 1\n",
      "-3 1\n",
      "-4 1\n"
     ]
    },
    {
     "ename": "IndexError",
     "evalue": "list index out of range",
     "output_type": "error",
     "traceback": [
      "\u001b[0;31m---------------------------------------------------------------------------\u001b[0m",
      "\u001b[0;31mIndexError\u001b[0m                                Traceback (most recent call last)",
      "\u001b[0;32m/tmp/ipykernel_25220/4225381023.py\u001b[0m in \u001b[0;36m<module>\u001b[0;34m\u001b[0m\n\u001b[1;32m      2\u001b[0m \u001b[0mi\u001b[0m\u001b[0;34m,\u001b[0m \u001b[0mj\u001b[0m \u001b[0;34m=\u001b[0m \u001b[0;36m3\u001b[0m\u001b[0;34m,\u001b[0m \u001b[0;36m4\u001b[0m\u001b[0;34m\u001b[0m\u001b[0;34m\u001b[0m\u001b[0m\n\u001b[1;32m      3\u001b[0m \u001b[0;32mwhile\u001b[0m \u001b[0mi\u001b[0m \u001b[0;34m!=\u001b[0m \u001b[0;36m0\u001b[0m \u001b[0;32mor\u001b[0m \u001b[0mj\u001b[0m \u001b[0;34m!=\u001b[0m \u001b[0;36m0\u001b[0m\u001b[0;34m:\u001b[0m\u001b[0;34m\u001b[0m\u001b[0;34m\u001b[0m\u001b[0m\n\u001b[0;32m----> 4\u001b[0;31m     \u001b[0;32mif\u001b[0m \u001b[0mdp\u001b[0m\u001b[0;34m[\u001b[0m\u001b[0mi\u001b[0m\u001b[0;34m-\u001b[0m\u001b[0;36m1\u001b[0m\u001b[0;34m]\u001b[0m\u001b[0;34m[\u001b[0m\u001b[0mj\u001b[0m\u001b[0;34m]\u001b[0m \u001b[0;34m<\u001b[0m \u001b[0mdp\u001b[0m\u001b[0;34m[\u001b[0m\u001b[0mi\u001b[0m\u001b[0;34m]\u001b[0m\u001b[0;34m[\u001b[0m\u001b[0mj\u001b[0m\u001b[0;34m-\u001b[0m\u001b[0;36m1\u001b[0m\u001b[0;34m]\u001b[0m\u001b[0;34m:\u001b[0m\u001b[0;34m\u001b[0m\u001b[0;34m\u001b[0m\u001b[0m\n\u001b[0m\u001b[1;32m      5\u001b[0m         \u001b[0ms\u001b[0m \u001b[0;34m+=\u001b[0m \u001b[0;34m\"D\"\u001b[0m\u001b[0;34m\u001b[0m\u001b[0;34m\u001b[0m\u001b[0m\n\u001b[1;32m      6\u001b[0m         \u001b[0mj\u001b[0m \u001b[0;34m-=\u001b[0m \u001b[0;36m1\u001b[0m\u001b[0;34m\u001b[0m\u001b[0;34m\u001b[0m\u001b[0m\n",
      "\u001b[0;31mIndexError\u001b[0m: list index out of range"
     ]
    }
   ],
   "source": [
    "s = \"\"\n",
    "i, j = 3, 4\n",
    "while i != 0 or j != 0:\n",
    "    if dp[i-1][j] < dp[i][j-1]:\n",
    "        s += \"D\"\n",
    "        j -= 1\n",
    "    else:\n",
    "        s += \"R\"\n",
    "        i -= 1\n",
    "    print(i, j)"
   ]
  },
  {
   "cell_type": "code",
   "execution_count": 97,
   "id": "a5f26d27",
   "metadata": {},
   "outputs": [
    {
     "data": {
      "text/plain": [
       "'DRRDD'"
      ]
     },
     "execution_count": 97,
     "metadata": {},
     "output_type": "execute_result"
    }
   ],
   "source": [
    "s[::-1]"
   ]
  },
  {
   "cell_type": "code",
   "execution_count": null,
   "id": "322808b0",
   "metadata": {},
   "outputs": [],
   "source": []
  }
 ],
 "metadata": {
  "kernelspec": {
   "display_name": "Python 3 (ipykernel)",
   "language": "python",
   "name": "python3"
  },
  "language_info": {
   "codemirror_mode": {
    "name": "ipython",
    "version": 3
   },
   "file_extension": ".py",
   "mimetype": "text/x-python",
   "name": "python",
   "nbconvert_exporter": "python",
   "pygments_lexer": "ipython3",
   "version": "3.9.7"
  }
 },
 "nbformat": 4,
 "nbformat_minor": 5
}
