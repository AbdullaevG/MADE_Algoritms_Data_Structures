{
 "cells": [
  {
   "cell_type": "code",
   "execution_count": 3,
   "id": "7068107b",
   "metadata": {},
   "outputs": [
    {
     "data": {
      "text/plain": [
       "(2, 1)"
      ]
     },
     "execution_count": 3,
     "metadata": {},
     "output_type": "execute_result"
    }
   ],
   "source": [
    "def get_max(lst, start, end):\n",
    "    temp_max = lst[start]\n",
    "    idx = start\n",
    "    \n",
    "    for i in range(start, end):\n",
    "        if lst[i] > temp_max:\n",
    "            temp_max = lst[i]\n",
    "            idx = i\n",
    "            \n",
    "    return (temp_max, idx)\n",
    "\n",
    "get_max([0, 2, -3, 5, 0], 0, 3)"
   ]
  },
  {
   "cell_type": "code",
   "execution_count": 30,
   "id": "92216064",
   "metadata": {},
   "outputs": [
    {
     "name": "stdout",
     "output_type": "stream",
     "text": [
      "7\n",
      "3\n",
      "1 2 4 5 "
     ]
    }
   ],
   "source": [
    "def grasshopper_earn(n, k, lst):\n",
    "    moneys = [0] + lst + [0]\n",
    "    columns = [None for i in range(n)]\n",
    "        \n",
    "    for i in range(1, n):\n",
    "        start_idx = max(0, i-k)\n",
    "        prev_earn, idx = get_max(moneys, start_idx, i) \n",
    "        moneys[i] += prev_earn\n",
    "        columns[i] = idx\n",
    "    \n",
    "    print(moneys[-1])\n",
    "    \n",
    "    visited = [n]\n",
    "    temp_idx = columns[-1]\n",
    "    while temp_idx is not None:\n",
    "        visited.append(temp_idx + 1)\n",
    "        temp_idx = columns[temp_idx]\n",
    "        \n",
    "    total_hops = len(visited) - 1\n",
    "    print(total_hops)\n",
    "    for i in range(total_hops, -1, -1):\n",
    "        print(visited[i], end = \" \")\n",
    "\n",
    "butterfly_earn(5, 3, [2, -3, 5])"
   ]
  },
  {
   "cell_type": "code",
   "execution_count": 27,
   "id": "0cfa6db2",
   "metadata": {},
   "outputs": [
    {
     "name": "stdout",
     "output_type": "stream",
     "text": [
      "-16\n",
      "4\n",
      "1 3 6 8 10 "
     ]
    }
   ],
   "source": [
    "butterfly_earn(10, 3, [-13, -2, -14, -124, -9, -6, -5, -7])"
   ]
  },
  {
   "cell_type": "code",
   "execution_count": 28,
   "id": "86f230d0",
   "metadata": {},
   "outputs": [
    {
     "name": "stdout",
     "output_type": "stream",
     "text": [
      "14\n",
      "7\n",
      "1 6 7 8 9 10 11 12 "
     ]
    }
   ],
   "source": [
    "butterfly_earn(12, 5, [-5, -4, -3, -2, -1, 1, 2, 3, 4, 5])"
   ]
  },
  {
   "cell_type": "code",
   "execution_count": null,
   "id": "d46c50a1",
   "metadata": {},
   "outputs": [],
   "source": []
  }
 ],
 "metadata": {
  "kernelspec": {
   "display_name": "Python 3 (ipykernel)",
   "language": "python",
   "name": "python3"
  },
  "language_info": {
   "codemirror_mode": {
    "name": "ipython",
    "version": 3
   },
   "file_extension": ".py",
   "mimetype": "text/x-python",
   "name": "python",
   "nbconvert_exporter": "python",
   "pygments_lexer": "ipython3",
   "version": "3.9.7"
  }
 },
 "nbformat": 4,
 "nbformat_minor": 5
}
